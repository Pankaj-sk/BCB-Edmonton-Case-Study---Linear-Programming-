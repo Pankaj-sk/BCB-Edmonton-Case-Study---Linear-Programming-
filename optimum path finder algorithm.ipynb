{
 "cells": [
  {
   "cell_type": "code",
   "execution_count": 31,
   "metadata": {},
   "outputs": [],
   "source": [
    "import pandas as pd\n",
    "import numpy as np\n",
    "import os\n",
    "\n",
    "os.chdir('d:/Libraries/Documents/BAN 5743')"
   ]
  },
  {
   "cell_type": "code",
   "execution_count": 32,
   "metadata": {},
   "outputs": [
    {
     "name": "stdout",
     "output_type": "stream",
     "text": [
      "[[0.         0.55       0.56666667 ... 0.65       0.9        0.33333333]\n",
      " [0.48333333 0.         0.23333333 ... 0.36666667 0.55       0.6       ]\n",
      " [0.51666667 0.25       0.         ... 0.36666667 0.6        0.63333333]\n",
      " ...\n",
      " [0.56666667 0.33333333 0.31666667 ... 0.         0.4        0.58333333]\n",
      " [0.81666667 0.56666667 0.6        ... 0.4        0.         0.93333333]\n",
      " [0.36666667 0.63333333 0.63333333 ... 0.63333333 0.93333333 0.        ]]\n"
     ]
    }
   ],
   "source": [
    "df = pd.read_excel('travel_times_hours.xlsx', index_col=None, header=None)\n",
    "# print(df.head())\n",
    "\n",
    "m2 = df.to_numpy()\n",
    "print(m2)"
   ]
  },
  {
   "cell_type": "code",
   "execution_count": 33,
   "metadata": {},
   "outputs": [
    {
     "name": "stdout",
     "output_type": "stream",
     "text": [
      "[[8.4200e+02 3.3680e+00 0.0000e+00]\n",
      " [2.8910e+03 1.1564e+01 0.0000e+00]\n",
      " [3.0920e+03 1.2368e+01 0.0000e+00]\n",
      " [1.4850e+03 5.9400e+00 0.0000e+00]\n",
      " [1.6790e+03 6.7160e+00 0.0000e+00]\n",
      " [1.6630e+03 6.6520e+00 0.0000e+00]\n",
      " [8.7400e+02 3.4960e+00 0.0000e+00]\n",
      " [2.6310e+03 1.0524e+01 0.0000e+00]\n",
      " [1.0180e+03 4.0720e+00 0.0000e+00]\n",
      " [7.4500e+02 2.9800e+00 0.0000e+00]\n",
      " [1.4890e+03 5.9560e+00 0.0000e+00]\n",
      " [1.0563e+04 4.2252e+01 0.0000e+00]\n",
      " [1.5970e+03 6.3880e+00 0.0000e+00]\n",
      " [2.6180e+03 1.0472e+01 0.0000e+00]\n",
      " [8.8200e+02 3.5280e+00 0.0000e+00]\n",
      " [7.5200e+02 3.0080e+00 0.0000e+00]\n",
      " [2.8260e+03 1.1304e+01 0.0000e+00]\n",
      " [9.5800e+02 3.8320e+00 0.0000e+00]\n",
      " [1.8810e+03 7.5240e+00 0.0000e+00]\n",
      " [9.0240e+03 3.6096e+01 0.0000e+00]\n",
      " [1.0186e+04 4.0744e+01 0.0000e+00]\n",
      " [2.9700e+03 1.1880e+01 0.0000e+00]\n",
      " [2.0100e+03 8.0400e+00 0.0000e+00]\n",
      " [1.8960e+03 7.5840e+00 0.0000e+00]\n",
      " [1.5480e+03 6.1920e+00 0.0000e+00]\n",
      " [1.2033e+04 4.8132e+01 0.0000e+00]\n",
      " [3.0020e+03 1.2008e+01 0.0000e+00]\n",
      " [1.0320e+03 4.1280e+00 0.0000e+00]\n",
      " [1.2751e+04 5.1004e+01 0.0000e+00]\n",
      " [8.3300e+02 3.3320e+00 0.0000e+00]\n",
      " [2.6150e+03 1.0460e+01 0.0000e+00]\n",
      " [1.2695e+04 5.0780e+01 0.0000e+00]\n",
      " [1.0110e+03 4.0440e+00 0.0000e+00]\n",
      " [3.2270e+03 1.2908e+01 0.0000e+00]\n",
      " [1.6810e+03 6.7240e+00 0.0000e+00]]\n"
     ]
    }
   ],
   "source": [
    "df = pd.read_excel('location_mapping.xlsx', index_col=None)\n",
    "# print(df.head())\n",
    "\n",
    "m1 = df.to_numpy()\n",
    "print(m1)"
   ]
  },
  {
   "cell_type": "code",
   "execution_count": 34,
   "metadata": {},
   "outputs": [
    {
     "name": "stdout",
     "output_type": "stream",
     "text": [
      "[216.74961387 244.7096665  250.         245.18436984 243.94614491\n",
      " 242.11394739 232.28206945 244.19899759 237.36981191 231.84647303\n",
      " 235.50189793 247.94610582 240.58451341 246.08346911 237.65044009\n",
      " 229.64169381 244.23830376 225.48250432 234.4217348  247.2599737\n",
      " 246.86949637 242.84546198 241.00719424 235.50844651 231.89853191\n",
      " 247.34490839 238.41795944 233.94287441 248.53812568 232.55164712\n",
      " 238.23261464 247.80402108 229.21704958 238.89546935 228.47952157]\n"
     ]
    }
   ],
   "source": [
    "\n",
    "m3 = np.copy(m2)\n",
    "for iy, ix in np.ndindex(m3.shape):\n",
    "    m3[iy][ix] = m1[ix][0]/(m1[ix][1]+m2[iy][ix])\n",
    "print(m3[2][:])\n",
    "#np.savetxt('sample.csv', m3, delimiter=\",\")"
   ]
  },
  {
   "cell_type": "code",
   "execution_count": 37,
   "metadata": {},
   "outputs": [
    {
     "name": "stdout",
     "output_type": "stream",
     "text": [
      "136\n"
     ]
    }
   ],
   "source": [
    "\n",
    "i = 28\n",
    "T = 17*8\n",
    "print(T)\n"
   ]
  },
  {
   "cell_type": "code",
   "execution_count": 38,
   "metadata": {},
   "outputs": [
    {
     "name": "stdout",
     "output_type": "stream",
     "text": [
      "Agent is at 28\n",
      "Agent have 136\n",
      "Agent have 84.99600000000001\n",
      "247.48601309101548\n",
      "tempindex: 19\n",
      "moving to next node\n",
      "51.31333333333333\n",
      "Agent is at 31\n",
      "Agent have 84.99600000000001\n",
      "Agent have 34.21600000000001\n",
      "250.0\n",
      "tempindex: 31\n",
      "time left34.21600000000001\n"
     ]
    }
   ],
   "source": [
    "def move_next_node(i):\n",
    "    print(\"Agent is at \" + str(i))\n",
    "    global T\n",
    "    j=i\n",
    "    print(\"Agent have \" + str(T))\n",
    "    T = T - (m1[i][1] + m2[i][j])\n",
    "    m1[i][2]=1\n",
    "    print(\"Agent have \" + str(T))\n",
    "    j = find_best_node(i)\n",
    "#     print(\"j:\" + str(j))\n",
    "    if T - (m2[i][j] + m1[j][1]) >= 0:\n",
    "        print(\"moving to next node\")\n",
    "        print((m2[i][j] + m1[j][1]))\n",
    "        move_next_node(j)\n",
    "    else:\n",
    "        print(\"time left\"+str(T))\n",
    "        \n",
    "def find_best_node(i):\n",
    "#  temp=np.copy(m3[i][:])\n",
    "#     print(\"entered\")\n",
    "    print(np.amax(m3[i][:]))\n",
    "    tempindex = np.argmax(m3[i][:])\n",
    "    print(\"tempindex: \" + str(tempindex))\n",
    "    m3[i][tempindex] = 0.000\n",
    "    secondhighest = np.argmax(m3[i][:])\n",
    "#     print(\"second high \" + str(secondhighest))\n",
    "    if m1[secondhighest][2]==1:\n",
    "        find_best_node(i)\n",
    "        \n",
    "    return secondhighest\n",
    "    #bestnode = m3[i][secondhighest]\n",
    "    #bestnode = m3[i][temp-1]\n",
    "\n",
    "i=28\n",
    "move_next_node(i)"
   ]
  },
  {
   "cell_type": "code",
   "execution_count": null,
   "metadata": {},
   "outputs": [],
   "source": []
  }
 ],
 "metadata": {
  "interpreter": {
   "hash": "9d4c2c180be885e8701006a73eb5bc52427b0f785304b5cc57d53c544237ff78"
  },
  "kernelspec": {
   "display_name": "Python 3.9.5 64-bit",
   "language": "python",
   "name": "python3"
  },
  "language_info": {
   "codemirror_mode": {
    "name": "ipython",
    "version": 3
   },
   "file_extension": ".py",
   "mimetype": "text/x-python",
   "name": "python",
   "nbconvert_exporter": "python",
   "pygments_lexer": "ipython3",
   "version": "3.9.5"
  },
  "orig_nbformat": 4
 },
 "nbformat": 4,
 "nbformat_minor": 2
}
